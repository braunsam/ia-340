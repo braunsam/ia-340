{
 "cells": [
  {
   "cell_type": "markdown",
   "metadata": {},
   "source": [
    "# Collect Tweets into MongoDB"
   ]
  },
  {
   "cell_type": "markdown",
   "metadata": {},
   "source": [
    "## Install Python libraries\n",
    "\n",
    "You may need to restart your Jupyter Notebook instance after installed those libraries."
   ]
  },
  {
   "cell_type": "code",
   "execution_count": 3,
   "metadata": {
    "scrolled": true
   },
   "outputs": [
    {
     "name": "stdout",
     "output_type": "stream",
     "text": [
      "Requirement already satisfied: pymongo in /home/ec2-user/anaconda3/envs/python3/lib/python3.6/site-packages (3.11.0)\n",
      "\u001b[33mWARNING: You are using pip version 20.0.2; however, version 20.2.4 is available.\n",
      "You should consider upgrading via the '/home/ec2-user/anaconda3/envs/python3/bin/python -m pip install --upgrade pip' command.\u001b[0m\n"
     ]
    }
   ],
   "source": [
    "!pip install pymongo"
   ]
  },
  {
   "cell_type": "code",
   "execution_count": 4,
   "metadata": {},
   "outputs": [
    {
     "name": "stdout",
     "output_type": "stream",
     "text": [
      "Requirement already satisfied: pymongo[srv] in /home/ec2-user/anaconda3/envs/python3/lib/python3.6/site-packages (3.11.0)\n",
      "Requirement already satisfied: dnspython<2.0.0,>=1.16.0; extra == \"srv\" in /home/ec2-user/anaconda3/envs/python3/lib/python3.6/site-packages (from pymongo[srv]) (1.16.0)\n",
      "\u001b[33mWARNING: You are using pip version 20.0.2; however, version 20.2.4 is available.\n",
      "You should consider upgrading via the '/home/ec2-user/anaconda3/envs/python3/bin/python -m pip install --upgrade pip' command.\u001b[0m\n"
     ]
    }
   ],
   "source": [
    "!pip install pymongo[srv]"
   ]
  },
  {
   "cell_type": "code",
   "execution_count": 5,
   "metadata": {},
   "outputs": [
    {
     "name": "stdout",
     "output_type": "stream",
     "text": [
      "Requirement already satisfied: dnspython in /home/ec2-user/anaconda3/envs/python3/lib/python3.6/site-packages (1.16.0)\n",
      "\u001b[33mWARNING: You are using pip version 20.0.2; however, version 20.2.4 is available.\n",
      "You should consider upgrading via the '/home/ec2-user/anaconda3/envs/python3/bin/python -m pip install --upgrade pip' command.\u001b[0m\n"
     ]
    }
   ],
   "source": [
    "!pip install dnspython"
   ]
  },
  {
   "cell_type": "code",
   "execution_count": 6,
   "metadata": {
    "scrolled": true
   },
   "outputs": [
    {
     "name": "stdout",
     "output_type": "stream",
     "text": [
      "Requirement already satisfied: tweepy in /home/ec2-user/anaconda3/envs/python3/lib/python3.6/site-packages (3.9.0)\n",
      "Requirement already satisfied: requests[socks]>=2.11.1 in /home/ec2-user/anaconda3/envs/python3/lib/python3.6/site-packages (from tweepy) (2.22.0)\n",
      "Requirement already satisfied: requests-oauthlib>=0.7.0 in /home/ec2-user/anaconda3/envs/python3/lib/python3.6/site-packages (from tweepy) (1.3.0)\n",
      "Requirement already satisfied: six>=1.10.0 in /home/ec2-user/anaconda3/envs/python3/lib/python3.6/site-packages (from tweepy) (1.14.0)\n",
      "Requirement already satisfied: idna<2.9,>=2.5 in /home/ec2-user/anaconda3/envs/python3/lib/python3.6/site-packages (from requests[socks]>=2.11.1->tweepy) (2.8)\n",
      "Requirement already satisfied: certifi>=2017.4.17 in /home/ec2-user/anaconda3/envs/python3/lib/python3.6/site-packages (from requests[socks]>=2.11.1->tweepy) (2020.6.20)\n",
      "Requirement already satisfied: urllib3!=1.25.0,!=1.25.1,<1.26,>=1.21.1 in /home/ec2-user/anaconda3/envs/python3/lib/python3.6/site-packages (from requests[socks]>=2.11.1->tweepy) (1.25.10)\n",
      "Requirement already satisfied: chardet<3.1.0,>=3.0.2 in /home/ec2-user/anaconda3/envs/python3/lib/python3.6/site-packages (from requests[socks]>=2.11.1->tweepy) (3.0.4)\n",
      "Requirement already satisfied: PySocks!=1.5.7,>=1.5.6; extra == \"socks\" in /home/ec2-user/anaconda3/envs/python3/lib/python3.6/site-packages (from requests[socks]>=2.11.1->tweepy) (1.7.1)\n",
      "Requirement already satisfied: oauthlib>=3.0.0 in /home/ec2-user/anaconda3/envs/python3/lib/python3.6/site-packages (from requests-oauthlib>=0.7.0->tweepy) (3.1.0)\n",
      "\u001b[33mWARNING: You are using pip version 20.0.2; however, version 20.2.4 is available.\n",
      "You should consider upgrading via the '/home/ec2-user/anaconda3/envs/python3/bin/python -m pip install --upgrade pip' command.\u001b[0m\n"
     ]
    }
   ],
   "source": [
    "!pip install tweepy"
   ]
  },
  {
   "cell_type": "code",
   "execution_count": 7,
   "metadata": {
    "scrolled": false
   },
   "outputs": [
    {
     "name": "stdout",
     "output_type": "stream",
     "text": [
      "Requirement already satisfied: twitter in /home/ec2-user/anaconda3/envs/python3/lib/python3.6/site-packages (1.18.0)\n",
      "\u001b[33mWARNING: You are using pip version 20.0.2; however, version 20.2.4 is available.\n",
      "You should consider upgrading via the '/home/ec2-user/anaconda3/envs/python3/bin/python -m pip install --upgrade pip' command.\u001b[0m\n"
     ]
    }
   ],
   "source": [
    "!pip install twitter"
   ]
  },
  {
   "cell_type": "markdown",
   "metadata": {},
   "source": [
    "## Import Python libraries"
   ]
  },
  {
   "cell_type": "code",
   "execution_count": 1,
   "metadata": {},
   "outputs": [],
   "source": [
    "import pymongo\n",
    "from pymongo import MongoClient\n",
    "import json\n",
    "import tweepy\n",
    "import twitter\n",
    "from pprint import pprint\n",
    "import configparser\n",
    "import pandas as pd"
   ]
  },
  {
   "cell_type": "markdown",
   "metadata": {},
   "source": [
    "##  Load the Authorization Info"
   ]
  },
  {
   "cell_type": "markdown",
   "metadata": {},
   "source": [
    "Save database connection info and API Keys in a config.ini file and use the configparse to load the authorization info. "
   ]
  },
  {
   "cell_type": "code",
   "execution_count": 2,
   "metadata": {},
   "outputs": [],
   "source": [
    "config = configparser.ConfigParser()\n",
    "config.read('config.ini')\n",
    "\n",
    "CONSUMER_KEY      = config['mytwitter']['api_key']\n",
    "CONSUMER_SECRET   = config['mytwitter']['api_secrete']\n",
    "OAUTH_TOKEN       = config['mytwitter']['access_token']\n",
    "OATH_TOKEN_SECRET = config['mytwitter']['access_secrete']\n",
    "\n",
    "mongod_connect = config['mymongo']['connection']"
   ]
  },
  {
   "cell_type": "markdown",
   "metadata": {},
   "source": [
    "## Connect to the MongoDB Cluster"
   ]
  },
  {
   "cell_type": "code",
   "execution_count": 3,
   "metadata": {},
   "outputs": [
    {
     "data": {
      "text/plain": [
       "'id_1'"
      ]
     },
     "execution_count": 3,
     "metadata": {},
     "output_type": "execute_result"
    }
   ],
   "source": [
    "client = MongoClient(mongod_connect)\n",
    "db = client.gp14 # use or create a database named demo\n",
    "tweet_collection = db.lab10 #use or create a collection named tweet_collection\n",
    "tweet_collection.create_index([(\"id\", pymongo.ASCENDING)],unique = True) # make sure the collected tweets are unique"
   ]
  },
  {
   "cell_type": "markdown",
   "metadata": {},
   "source": [
    "## Use the Streaming API to Collect Tweets"
   ]
  },
  {
   "cell_type": "markdown",
   "metadata": {},
   "source": [
    "Authorize the Stream API "
   ]
  },
  {
   "cell_type": "code",
   "execution_count": 4,
   "metadata": {},
   "outputs": [],
   "source": [
    "stream_auth = tweepy.OAuthHandler(CONSUMER_KEY, CONSUMER_SECRET)\n",
    "stream_auth.set_access_token(OAUTH_TOKEN, OATH_TOKEN_SECRET)\n",
    "\n",
    "strem_api = tweepy.API(stream_auth)"
   ]
  },
  {
   "cell_type": "markdown",
   "metadata": {},
   "source": [
    "Define the query for the Stream API"
   ]
  },
  {
   "cell_type": "code",
   "execution_count": 5,
   "metadata": {},
   "outputs": [],
   "source": [
    "track = ['covid19'] # define the keywords, tweets contain election\n",
    "\n",
    "#locations = [-78.9326449,38.4150904,-78.8816972,38.4450731] #defin the location, in Harrisonburg, VA"
   ]
  },
  {
   "cell_type": "markdown",
   "metadata": {},
   "source": [
    "The collected tweets will contain 'election' <span style=\"color:red;font-weight:bold\"> OR </span> are located in Harrisonburg, VA"
   ]
  },
  {
   "cell_type": "code",
   "execution_count": null,
   "metadata": {
    "scrolled": true
   },
   "outputs": [
    {
     "name": "stdout",
     "output_type": "stream",
     "text": [
      "1327028797812588544\n",
      "1327028797972025345\n",
      "1327028798169223168\n",
      "1327028798148194309\n",
      "1327028798731202560\n",
      "1327028799263944705\n",
      "1327028799268118528\n",
      "1327028798743724033\n",
      "1327028799767158786\n",
      "1327028800249421824\n",
      "1327028800282980352\n",
      "1327028800551575554\n",
      "1327028801939906567\n",
      "1327028803017854976\n",
      "1327028803806355457\n",
      "1327028803152056322\n",
      "1327028803726675968\n",
      "1327028804145975297\n",
      "1327028804565356544\n",
      "1327028805320519681\n",
      "1327028807329525761\n",
      "1327028807388307457\n",
      "1327028807509954567\n",
      "1327028807832903680\n",
      "1327028808549949440\n",
      "1327028808554319874\n",
      "1327028808726302721\n",
      "1327028808311066631\n",
      "1327028810479525891\n",
      "1327028812635394049\n",
      "1327028812673130498\n",
      "1327028812945760256\n",
      "1327028813599961090\n",
      "1327028813927157760\n",
      "1327028814162128896\n",
      "1327028815021940740\n",
      "1327028816083111946\n",
      "1327028816242298882\n",
      "1327028816414437378\n",
      "1327028816976506881\n",
      "1327028818478030849\n",
      "1327028819170119681\n",
      "1327028820461768704\n",
      "1327028820575211535\n",
      "1327028820717805569\n",
      "1327028821204275201\n",
      "1327028821921570818\n",
      "1327028822257119246\n",
      "1327028822680637441\n",
      "1327028823255257089\n",
      "1327028823326683137\n",
      "1327028823540592642\n",
      "1327028823754498053\n",
      "1327028824383631360\n",
      "1327028827026059264\n",
      "1327028827604791301\n",
      "1327028827684532225\n",
      "1327028827504066560\n",
      "1327028828053536768\n",
      "1327028828934340608\n",
      "1327028830272360448\n",
      "1327028832428232710\n",
      "1327028833510428675\n",
      "1327028834089259012\n",
      "1327028834659491840\n",
      "1327028834818994182\n",
      "1327028835221610496\n",
      "1327028836203196417\n",
      "1327028837000081411\n",
      "1327028837301981184\n",
      "1327028838107373569\n",
      "1327028838505852929\n",
      "1327028838862360576\n",
      "1327028838983999488\n",
      "1327028839428489216\n",
      "1327028839642521600\n",
      "1327028842154876929\n",
      "1327028843190788096\n",
      "1327028843358646272\n",
      "1327028843454947328\n",
      "1327028845086642177\n",
      "1327028845308993538\n",
      "1327028846944612352\n",
      "1327028848198778881\n",
      "1327028848144347136\n",
      "1327028848362459148\n",
      "1327028848379228162\n",
      "1327028849406844928\n",
      "1327028850052706305\n",
      "1327028850279243776\n",
      "1327028849683668993\n",
      "1327028851348684802\n",
      "1327028852112171008\n",
      "1327028852023992320\n",
      "1327028853261426690\n",
      "1327028854083432448\n",
      "1327028854846857217\n",
      "1327028855899639808\n",
      "1327028857556201473\n",
      "1327028858093268992\n",
      "1327028859313803264\n",
      "1327028860647591937\n",
      "1327028860655984640\n",
      "1327028860714688515\n",
      "1327028860878196738\n",
      "1327028862153355265\n",
      "1327028862262403072\n",
      "1327028864082726919\n",
      "1327028864753803270\n",
      "1327028864900620290\n",
      "1327028865429086214\n",
      "1327028866364231680\n",
      "1327028866532077569\n",
      "1327028867618512896\n",
      "1327028867979116544\n",
      "1327028868092456962\n",
      "1327028868440416256\n",
      "1327028868478341120\n",
      "1327028868717236225\n",
      "1327028869103284225\n",
      "1327028869766008834\n",
      "1327028870634082304\n",
      "1327028871338790917\n",
      "1327028872374853635\n",
      "1327028872450355200\n",
      "1327028873196867584\n",
      "1327028874555768837\n",
      "1327028874757120001\n",
      "1327028875386347522\n",
      "1327028875445100547\n",
      "1327028878087516161\n",
      "1327028878460784640\n",
      "1327028879400316929\n",
      "1327028879727452161\n",
      "1327028880058830848\n",
      "1327028880343855109\n",
      "1327028881602260993\n",
      "1327028882508169216\n",
      "1327028881547784193\n",
      "1327028882785112065\n",
      "1327028882957099014\n",
      "1327028883036758018\n",
      "1327028883439415297\n",
      "1327028884261449731\n",
      "1327028885465264131\n",
      "1327028885641330690\n",
      "1327028887696510976\n",
      "1327028887780356099\n",
      "1327028888208355334\n",
      "1327028888434827264\n",
      "1327028890481594368\n",
      "1327028890695557120\n",
      "1327028891064692736\n",
      "1327028892960342016\n",
      "1327028893501407233\n",
      "1327028893660934154\n",
      "1327028894818570243\n",
      "1327028896466825216\n",
      "1327028896953368576\n",
      "1327028897603481601\n",
      "1327028897704185857\n",
      "1327028898060771334\n",
      "1327028898585047040\n",
      "1327028898417180672\n",
      "1327028900095008768\n",
      "1327028900480905217\n",
      "1327028901063909377\n",
      "1327028901533552642\n",
      "1327028901713940480\n",
      "1327028903332950017\n",
      "1327028903454584833\n",
      "1327028903463030785\n",
      "1327028904746475520\n",
      "1327028905136558081\n",
      "1327028905669251072\n",
      "1327028905765724160\n",
      "1327028905899941888\n",
      "1327028905908334593\n",
      "1327028907787186176\n",
      "1327028907908997120\n",
      "1327028908466860043\n",
      "1327028908458348544\n",
      "1327028909637033984\n",
      "1327028908923895809\n",
      "1327028909691588609\n",
      "1327028909569880064\n",
      "1327028911234973702\n",
      "1327028911834886144\n",
      "1327028911776149505\n",
      "1327028912375918593\n",
      "1327028912774389760\n",
      "1327028913286107138\n",
      "1327028912489078785\n",
      "1327028913529188352\n",
      "1327028913462243333\n",
      "1327028913617383425\n",
      "1327028914087096320\n",
      "1327028914821226497\n",
      "1327028916217737218\n",
      "1327028916414947328\n",
      "1327028916977086467\n",
      "1327028918206033923\n",
      "1327028919103524865\n",
      "1327028921423044616\n",
      "1327028921662119936\n",
      "1327028922219978754\n",
      "1327028923465515009\n",
      "1327028923612483585\n",
      "1327028924405211136\n",
      "1327028925369901056\n",
      "1327028925520867328\n",
      "1327028924933664770\n",
      "1327028926015696896\n",
      "1327028926330273792\n",
      "1327028926804340737\n",
      "1327028928138129410\n",
      "1327028928913969152\n",
      "1327028928654012416\n",
      "1327028929702584321\n",
      "1327028930163798016\n",
      "1327028930268827651\n",
      "1327028930579054592\n",
      "1327028930902188034\n",
      "1327028931078234112\n",
      "1327028931472592901\n",
      "1327028932286230534\n",
      "1327028932626018304\n",
      "1327028932172869632\n",
      "1327028933003501568\n",
      "1327028933322280960\n",
      "1327028934098219009\n",
      "1327028934479912960\n",
      "1327028935050338304\n",
      "1327028935326986240\n",
      "1327028935524225028\n",
      "1327028937000689664\n",
      "1327028936614809600\n"
     ]
    }
   ],
   "source": [
    "class MyStreamListener(tweepy.StreamListener):\n",
    "    def on_status(self, status):\n",
    "        print (status.id_str)\n",
    "        try:\n",
    "            tweet_collection.insert_one(status._json)\n",
    "        except:\n",
    "            pass\n",
    "  \n",
    "    def on_error(self, status_code):\n",
    "        if status_code == 420:\n",
    "            #returning False in on_data disconnects the stream\n",
    "            return False\n",
    "myStreamListener = MyStreamListener()\n",
    "myStream = tweepy.Stream(auth = strem_api.auth, listener=myStreamListener)\n",
    "myStream.filter(track=track)#  (locations = locations)   #Use either track or locations"
   ]
  },
  {
   "cell_type": "markdown",
   "metadata": {},
   "source": [
    "## Use the REST API to Collect Tweets"
   ]
  },
  {
   "cell_type": "markdown",
   "metadata": {},
   "source": [
    "Authorize the REST API "
   ]
  },
  {
   "cell_type": "code",
   "execution_count": null,
   "metadata": {},
   "outputs": [],
   "source": [
    "rest_auth = twitter.oauth.OAuth(OAUTH_TOKEN,OATH_TOKEN_SECRET,CONSUMER_KEY,CONSUMER_SECRET)\n",
    "rest_api = twitter.Twitter(auth=rest_auth)"
   ]
  },
  {
   "cell_type": "markdown",
   "metadata": {},
   "source": [
    "Define the query for the REST API"
   ]
  },
  {
   "cell_type": "code",
   "execution_count": null,
   "metadata": {},
   "outputs": [],
   "source": [
    "count = 100 #number of returned tweets, default and max is 100\n",
    "#geocode = \"38.4392897,-78.9412224,50mi\"  # defin the location, in Harrisonburg, VA\n",
    "q = \"covid19\"                               #define the keywords, tweets contain election"
   ]
  },
  {
   "cell_type": "markdown",
   "metadata": {},
   "source": [
    "The collected tweets will contain 'election' <span style=\"color:red;font-weight:bold\"> AND </span> are located in Harrisonburg, VA"
   ]
  },
  {
   "cell_type": "code",
   "execution_count": null,
   "metadata": {
    "scrolled": true
   },
   "outputs": [],
   "source": [
    "search_results = rest_api.search.tweets( count=count,q=q) #you can use both q and geocode\n",
    "statuses = search_results[\"statuses\"]\n",
    "since_id_new = statuses[-1]['id']\n",
    "for statuse in statuses:\n",
    "    try:\n",
    "        tweet_collection.insert_one(statuse)\n",
    "        pprint(statuse['created_at'])# print the date of the collected tweets\n",
    "    except:\n",
    "        pass"
   ]
  },
  {
   "cell_type": "code",
   "execution_count": null,
   "metadata": {
    "scrolled": true
   },
   "outputs": [],
   "source": [
    "since_id_old = 0\n",
    "while(since_id_new != since_id_old):\n",
    "    since_id_old = since_id_new\n",
    "    search_results = rest_api.search.tweets( count=count,q=q,\n",
    "                         max_id= since_id_new)\n",
    "    statuses = search_results[\"statuses\"]\n",
    "    since_id_new = statuses[-1]['id']\n",
    "    for statuse in statuses:\n",
    "        try:\n",
    "            tweet_collection.insert_one(statuse)\n",
    "            pprint(statuse['created_at']) # print the date of the collected tweets\n",
    "        except:\n",
    "            pass"
   ]
  },
  {
   "cell_type": "markdown",
   "metadata": {},
   "source": [
    "Continue fetching early tweets with the same query. \n",
    "<p><span style=\"color:red;font-weight:bold\">YOU WILL REACH YOUR RATE LIMIT VERY FAST</span></p>"
   ]
  },
  {
   "cell_type": "markdown",
   "metadata": {},
   "source": [
    "## View the Collected Tweets"
   ]
  },
  {
   "cell_type": "markdown",
   "metadata": {},
   "source": [
    "Print the number of tweets and unique twitter users"
   ]
  },
  {
   "cell_type": "code",
   "execution_count": null,
   "metadata": {},
   "outputs": [],
   "source": [
    "print(tweet_collection.estimated_document_count())# number of tweets collected\n",
    "\n",
    "user_cursor = tweet_collection.distinct(\"user.id\")\n",
    "print (len(user_cursor)) # number of unique Twitter users "
   ]
  },
  {
   "cell_type": "markdown",
   "metadata": {},
   "source": [
    "Create a text index and print the Tweets containing specific keywords. "
   ]
  },
  {
   "cell_type": "code",
   "execution_count": null,
   "metadata": {
    "scrolled": false
   },
   "outputs": [],
   "source": [
    "tweet_collection.create_index([(\"text\", pymongo.TEXT)], name='text_index', default_language='english') # create a text index\n"
   ]
  },
  {
   "cell_type": "markdown",
   "metadata": {},
   "source": [
    "Create a cursor to query tweets with the created index"
   ]
  },
  {
   "cell_type": "code",
   "execution_count": null,
   "metadata": {},
   "outputs": [],
   "source": [
    "tweet_cursor = tweet_collection.find({\"$text\": {\"$search\": \"election\"}}) # return tweets contain vote"
   ]
  },
  {
   "cell_type": "markdown",
   "metadata": {},
   "source": [
    "Use pprint to display tweets"
   ]
  },
  {
   "cell_type": "code",
   "execution_count": null,
   "metadata": {
    "scrolled": false
   },
   "outputs": [],
   "source": [
    "\n",
    "for document in tweet_cursor[0:10]: # display the first 10 tweets from the query\n",
    "    try:\n",
    "        print ('----')\n",
    "#         pprint (document) # use pprint to print the entire tweet document\n",
    "   \n",
    "        print ('name:', document[\"user\"][\"name\"]) # user name\n",
    "        print ('text:', document[\"text\"])         # tweets\n",
    "    except:\n",
    "        print (\"***error in encoding\")\n",
    "        pass"
   ]
  },
  {
   "cell_type": "code",
   "execution_count": null,
   "metadata": {},
   "outputs": [],
   "source": [
    "tweet_cursor = tweet_collection.find({\"$text\": {\"$search\": \"election\"}}) # return tweets contain vote"
   ]
  },
  {
   "cell_type": "markdown",
   "metadata": {},
   "source": [
    "Use pandas to display tweets"
   ]
  },
  {
   "cell_type": "code",
   "execution_count": null,
   "metadata": {},
   "outputs": [],
   "source": [
    "tweet_df = pd.DataFrame(list(tweet_cursor ))\n",
    "tweet_df[:10] #display the first 10 tweets"
   ]
  },
  {
   "cell_type": "code",
   "execution_count": null,
   "metadata": {},
   "outputs": [],
   "source": [
    "tweet_df[\"favorite_count\"].hist() # create a histogram show the favorite count"
   ]
  },
  {
   "cell_type": "code",
   "execution_count": null,
   "metadata": {},
   "outputs": [],
   "source": []
  }
 ],
 "metadata": {
  "kernelspec": {
   "display_name": "conda_python3",
   "language": "python",
   "name": "conda_python3"
  },
  "language_info": {
   "codemirror_mode": {
    "name": "ipython",
    "version": 3
   },
   "file_extension": ".py",
   "mimetype": "text/x-python",
   "name": "python",
   "nbconvert_exporter": "python",
   "pygments_lexer": "ipython3",
   "version": "3.6.10"
  }
 },
 "nbformat": 4,
 "nbformat_minor": 2
}
